{
 "cells": [
  {
   "cell_type": "markdown",
   "metadata": {},
   "source": [
    "# <span style=\"color:blue\"> <center> Nearest-Neighbor Classifier </center> </span>\n",
    "<justify>Simplest classifier using Nearest-Neighbors: Each point of the test set is compared to each point in the training set and the closest label, according to some distance measurement, is assigned. Grouping data with algorithms like BallTree and KDTree can speed up the neighbor search. </justify> \n"
   ]
  },
  {
   "cell_type": "code",
   "execution_count": 2,
   "metadata": {},
   "outputs": [],
   "source": [
    "%matplotlib inline\n",
    "import numpy as np\n",
    "from matplotlib import pyplot as plt\n",
    "from sklearn.neighbors import BallTree, KDTree\n",
    "from sklearn.model_selection import StratifiedShuffleSplit\n",
    "import time\n",
    "from sklearn.metrics import mean_squared_error\n",
    "import pandas as pd\n",
    "from sklearn.preprocessing import LabelEncoder"
   ]
  },
  {
   "cell_type": "code",
   "execution_count": 43,
   "metadata": {},
   "outputs": [],
   "source": [
    "def perform_stratified_sampling(system_data, system_labels, test_set_size):\n",
    "    selector = StratifiedShuffleSplit(n_splits = 1, test_size = test_set_size, random_state = 12120)\n",
    "    for train_index, test_index in selector.split(system_data, system_labels):\n",
    "        X_train, X_test = system_data[train_index, :], system_data[test_index, :]\n",
    "        Y_train, Y_test = system_labels[train_index], system_labels[test_index]\n",
    "    print(\"Training set: \", X_train.shape, \" Test set: \", X_test.shape)\n",
    "    for a_cat in range(len(np.unique(system_labels))):\n",
    "        print(\"Proportion of points from category \", a_cat, \" :\")\n",
    "        print(\"Full set: \", np.sum(system_labels == a_cat)/len(system_labels), \n",
    "              \" Train set: \", np.sum(Y_train == a_cat)/len(Y_train), \" Test set: \", np.sum(Y_test==a_cat)/len(Y_test))\n",
    "    return X_train, X_test, Y_train, Y_test"
   ]
  },
  {
   "cell_type": "code",
   "execution_count": 45,
   "metadata": {},
   "outputs": [],
   "source": [
    "def evaluate_BallTree(X_train, X_test, Y_train, Y_test):\n",
    "    t_ini = time.time()\n",
    "    ball_tree = BallTree(X_train)\n",
    "    closests_in_train = np.squeeze(ball_tree.query(X_test, k=1, return_distance=False))\n",
    "    predicted_labels = Y_train[closests_in_train]\n",
    "    t_fin = time.time()\n",
    "    print(\"Computing time: \", t_fin - t_ini)\n",
    "    error_on_test = mean_squared_error(predicted_labels, Y_test)\n",
    "    correct_predicts = np.sum(predicted_labels == Y_test)/len(Y_test)\n",
    "    print('Mean Squared Error: ', error_on_test, '\\n', 'Right predictions: ', correct_predicts)\n",
    "    return predicted_labels"
   ]
  },
  {
   "cell_type": "code",
   "execution_count": 46,
   "metadata": {},
   "outputs": [],
   "source": [
    "def evaluate_KDTree(X_train, X_test, Y_train, Y_test):\n",
    "    t_ini = time.time()\n",
    "    kd_tree = KDTree(X_train)\n",
    "    closests_in_train = np.squeeze(kd_tree.query(X_test, k=1, return_distance=False))\n",
    "    predicted_labels = Y_train[closests_in_train]\n",
    "    t_fin = time.time()\n",
    "    print(\"Computing time: \", t_fin - t_ini)\n",
    "    error_on_test = mean_squared_error(predicted_labels, Y_test)\n",
    "    correct_predicts = np.sum(predicted_labels == Y_test)/len(Y_test)\n",
    "    print('Mean Squared Error: ', error_on_test, '\\n', 'Right predictions: ', correct_predicts)\n",
    "    return predicted_labels"
   ]
  },
  {
   "cell_type": "markdown",
   "metadata": {},
   "source": [
    "## <span style=\"color:yellow\"> ----------------------------------------------------------------------------------</span>\n",
    "## <span style=\"color:red\"> Ex.1 - Space shuttle dataset </span>\n",
    "The shuttle dataset contains 9 attributes all of which are numerical. The first one being time.  The last column is the class which has been coded as follows: (1) Rad Flow, (2) Fpv Close, (3) Fpv Open, (4) High, (5) Bypass, (6) Bpv Close, (7) Bpv Open.\n",
    "\n",
    "*Dataset taken from archive.ics.uci.edu/*"
   ]
  },
  {
   "cell_type": "code",
   "execution_count": 41,
   "metadata": {},
   "outputs": [],
   "source": [
    "system_data = np.loadtxt('shuttle.txt')\n",
    "system_labels = system_data[:,-1]\n",
    "system_data = system_data[:, :-1]"
   ]
  },
  {
   "cell_type": "code",
   "execution_count": 42,
   "metadata": {},
   "outputs": [
    {
     "name": "stdout",
     "output_type": "stream",
     "text": [
      "Dataset size:  (58000, 9)  Categories:  [1. 2. 3. 4. 5. 6. 7.]\n"
     ]
    }
   ],
   "source": [
    "print(\"Dataset size: \", system_data.shape, \" Categories: \", np.unique(system_labels) )"
   ]
  },
  {
   "cell_type": "code",
   "execution_count": 44,
   "metadata": {},
   "outputs": [
    {
     "name": "stdout",
     "output_type": "stream",
     "text": [
      "Training set:  (46400, 9)  Test set:  (11600, 9)\n",
      "Proportion of points from category  0  :\n",
      "Full set:  0.0  Train set:  0.0  Test set:  0.0\n",
      "Proportion of points from category  1  :\n",
      "Full set:  0.7859655172413793  Train set:  0.7859698275862069  Test set:  0.785948275862069\n",
      "Proportion of points from category  2  :\n",
      "Full set:  0.0008620689655172414  Train set:  0.0008620689655172414  Test set:  0.0008620689655172414\n",
      "Proportion of points from category  3  :\n",
      "Full set:  0.0029482758620689655  Train set:  0.0029525862068965516  Test set:  0.0029310344827586207\n",
      "Proportion of points from category  4  :\n",
      "Full set:  0.1535  Train set:  0.15349137931034482  Test set:  0.1535344827586207\n",
      "Proportion of points from category  5  :\n",
      "Full set:  0.056327586206896554  Train set:  0.05633620689655172  Test set:  0.056293103448275865\n",
      "Proportion of points from category  6  :\n",
      "Full set:  0.00017241379310344826  Train set:  0.00017241379310344826  Test set:  0.00017241379310344826\n"
     ]
    }
   ],
   "source": [
    "X_train, X_test, Y_train, Y_test = perform_stratified_sampling(system_data, system_labels, 0.2)"
   ]
  },
  {
   "cell_type": "code",
   "execution_count": 47,
   "metadata": {},
   "outputs": [
    {
     "name": "stdout",
     "output_type": "stream",
     "text": [
      "Computing time:  9.033655881881714\n",
      "Mean Squared Error:  0.01793103448275862 \n",
      " Right predictions:  0.9982758620689656\n",
      "Computing time:  0.8690359592437744\n",
      "Mean Squared Error:  0.01793103448275862 \n",
      " Right predictions:  0.9982758620689656\n"
     ]
    }
   ],
   "source": [
    "predicted_labels = evaluate_BallTree(X_train, X_test, Y_train, Y_test)\n",
    "predicted_labels = evaluate_KDTree(X_train, X_test, Y_train, Y_test)"
   ]
  },
  {
   "cell_type": "markdown",
   "metadata": {},
   "source": [
    "## <span style=\"color:yellow\"> ----------------------------------------------------------------------------------</span>\n",
    "## <span style=\"color:red\"> Ex.2 - Biomechanical features of orthopedic patients </span>\n",
    "\n",
    "Classify patients orthopedic state as 'Normal', or as having either 'Hernia' or 'Spondylolisthesis'.\n",
    "\n",
    "*Dataset taken from kaggle.com*"
   ]
  },
  {
   "cell_type": "code",
   "execution_count": 48,
   "metadata": {},
   "outputs": [
    {
     "name": "stderr",
     "output_type": "stream",
     "text": [
      "/usr/lib/python3/dist-packages/ipykernel_launcher.py:1: FutureWarning: from_csv is deprecated. Please use read_csv(...) instead. Note that some of the default arguments are different, so please refer to the documentation for from_csv when changing your function calls\n",
      "  \"\"\"Entry point for launching an IPython kernel.\n"
     ]
    },
    {
     "name": "stdout",
     "output_type": "stream",
     "text": [
      "['Hernia' 'Normal' 'Spondylolisthesis']\n"
     ]
    },
    {
     "data": {
      "text/html": [
       "<div>\n",
       "<style scoped>\n",
       "    .dataframe tbody tr th:only-of-type {\n",
       "        vertical-align: middle;\n",
       "    }\n",
       "\n",
       "    .dataframe tbody tr th {\n",
       "        vertical-align: top;\n",
       "    }\n",
       "\n",
       "    .dataframe thead th {\n",
       "        text-align: right;\n",
       "    }\n",
       "</style>\n",
       "<table border=\"1\" class=\"dataframe\">\n",
       "  <thead>\n",
       "    <tr style=\"text-align: right;\">\n",
       "      <th></th>\n",
       "      <th>pelvic_incidence</th>\n",
       "      <th>pelvic_tilt</th>\n",
       "      <th>lumbar_lordosis_angle</th>\n",
       "      <th>sacral_slope</th>\n",
       "      <th>pelvic_radius</th>\n",
       "      <th>degree_spondylolisthesis</th>\n",
       "    </tr>\n",
       "  </thead>\n",
       "  <tbody>\n",
       "    <tr>\n",
       "      <th>0</th>\n",
       "      <td>63.027818</td>\n",
       "      <td>22.552586</td>\n",
       "      <td>39.609117</td>\n",
       "      <td>40.475232</td>\n",
       "      <td>98.672917</td>\n",
       "      <td>-0.254400</td>\n",
       "    </tr>\n",
       "    <tr>\n",
       "      <th>1</th>\n",
       "      <td>39.056951</td>\n",
       "      <td>10.060991</td>\n",
       "      <td>25.015378</td>\n",
       "      <td>28.995960</td>\n",
       "      <td>114.405425</td>\n",
       "      <td>4.564259</td>\n",
       "    </tr>\n",
       "    <tr>\n",
       "      <th>2</th>\n",
       "      <td>68.832021</td>\n",
       "      <td>22.218482</td>\n",
       "      <td>50.092194</td>\n",
       "      <td>46.613539</td>\n",
       "      <td>105.985135</td>\n",
       "      <td>-3.530317</td>\n",
       "    </tr>\n",
       "    <tr>\n",
       "      <th>3</th>\n",
       "      <td>69.297008</td>\n",
       "      <td>24.652878</td>\n",
       "      <td>44.311238</td>\n",
       "      <td>44.644130</td>\n",
       "      <td>101.868495</td>\n",
       "      <td>11.211523</td>\n",
       "    </tr>\n",
       "    <tr>\n",
       "      <th>4</th>\n",
       "      <td>49.712859</td>\n",
       "      <td>9.652075</td>\n",
       "      <td>28.317406</td>\n",
       "      <td>40.060784</td>\n",
       "      <td>108.168725</td>\n",
       "      <td>7.918501</td>\n",
       "    </tr>\n",
       "  </tbody>\n",
       "</table>\n",
       "</div>"
      ],
      "text/plain": [
       "   pelvic_incidence  pelvic_tilt  lumbar_lordosis_angle  sacral_slope  \\\n",
       "0         63.027818    22.552586              39.609117     40.475232   \n",
       "1         39.056951    10.060991              25.015378     28.995960   \n",
       "2         68.832021    22.218482              50.092194     46.613539   \n",
       "3         69.297008    24.652878              44.311238     44.644130   \n",
       "4         49.712859     9.652075              28.317406     40.060784   \n",
       "\n",
       "   pelvic_radius  degree_spondylolisthesis  \n",
       "0      98.672917                 -0.254400  \n",
       "1     114.405425                  4.564259  \n",
       "2     105.985135                 -3.530317  \n",
       "3     101.868495                 11.211523  \n",
       "4     108.168725                  7.918501  "
      ]
     },
     "execution_count": 48,
     "metadata": {},
     "output_type": "execute_result"
    }
   ],
   "source": [
    "orthopedic_data = pd.DataFrame.from_csv('orthopedic.csv', index_col=None)\n",
    "da_labels = orthopedic_data['class']\n",
    "orthopedic_data = orthopedic_data.drop('class', axis=1)\n",
    "categories = np.unique(da_labels)\n",
    "print(categories)\n",
    "orthopedic_data.head()\n"
   ]
  },
  {
   "cell_type": "code",
   "execution_count": 49,
   "metadata": {},
   "outputs": [
    {
     "name": "stdout",
     "output_type": "stream",
     "text": [
      "[0 1 2]\n",
      "['Hernia' 'Normal' 'Spondylolisthesis']\n"
     ]
    }
   ],
   "source": [
    "encoder = LabelEncoder()\n",
    "categorical_labels = da_labels\n",
    "labels_encoded = encoder.fit_transform(categorical_labels)\n",
    "print(np.unique(labels_encoded))\n",
    "print(encoder.classes_)"
   ]
  },
  {
   "cell_type": "code",
   "execution_count": 50,
   "metadata": {},
   "outputs": [
    {
     "name": "stdout",
     "output_type": "stream",
     "text": [
      "Training set:  (248, 6)  Test set:  (62, 6)\n",
      "Proportion of points from category  0  :\n",
      "Full set:  0.1935483870967742  Train set:  0.1935483870967742  Test set:  0.1935483870967742\n",
      "Proportion of points from category  1  :\n",
      "Full set:  0.3225806451612903  Train set:  0.3225806451612903  Test set:  0.3225806451612903\n",
      "Proportion of points from category  2  :\n",
      "Full set:  0.4838709677419355  Train set:  0.4838709677419355  Test set:  0.4838709677419355\n"
     ]
    }
   ],
   "source": [
    "X_train, X_test, Y_train, Y_test = perform_stratified_sampling(np.array(orthopedic_data), labels_encoded, 0.2)"
   ]
  },
  {
   "cell_type": "code",
   "execution_count": 51,
   "metadata": {
    "scrolled": true
   },
   "outputs": [
    {
     "name": "stdout",
     "output_type": "stream",
     "text": [
      "Computing time:  0.005257844924926758\n",
      "Mean Squared Error:  0.20967741935483872 \n",
      " Right predictions:  0.7903225806451613\n",
      "Computing time:  0.0012352466583251953\n",
      "Mean Squared Error:  0.20967741935483872 \n",
      " Right predictions:  0.7903225806451613\n"
     ]
    }
   ],
   "source": [
    "predicted_labels = evaluate_BallTree(X_train, X_test, Y_train, Y_test)\n",
    "predicted_labels = evaluate_KDTree(X_train, X_test, Y_train, Y_test)"
   ]
  },
  {
   "cell_type": "markdown",
   "metadata": {},
   "source": [
    "## <span style=\"color:yellow\"> ----------------------------------------------------------------------------------</span>\n",
    "## <span style=\"color:red\"> Ex.3 - MNIST dataset </span>\n",
    "\n",
    "Gray-scale images of 28x28 pixels of handwritten digits. Images were transformed previously into vectors of 784 elements with a reshape.\n",
    "\n",
    "*Dataset taken from edx: 'DSE220x : Machine Learning Fundamentals'*."
   ]
  },
  {
   "cell_type": "code",
   "execution_count": 52,
   "metadata": {},
   "outputs": [],
   "source": [
    "training_set = np.load('MNIST/train_data.npy')\n",
    "testing_set = np.load('MNIST/test_data.npy')\n",
    "training_labels = np.load('MNIST/train_labels.npy')\n",
    "testing_labels = np.load('MNIST/test_labels.npy')"
   ]
  },
  {
   "cell_type": "code",
   "execution_count": 53,
   "metadata": {
    "scrolled": true
   },
   "outputs": [
    {
     "name": "stdout",
     "output_type": "stream",
     "text": [
      "Training set:  (7500, 784)  Test set:  (1000, 784)\n"
     ]
    }
   ],
   "source": [
    "print('Training set: ', training_set.shape, ' Test set: ', testing_set.shape)"
   ]
  },
  {
   "cell_type": "code",
   "execution_count": 54,
   "metadata": {},
   "outputs": [],
   "source": [
    "def print_some_image(dat_vector):\n",
    "    plt.axis('off')\n",
    "    plt.imshow(dat_vector.reshape((28,28)), cmap=plt.cm.gray)\n",
    "    plt.show()"
   ]
  },
  {
   "cell_type": "code",
   "execution_count": 55,
   "metadata": {
    "scrolled": true
   },
   "outputs": [
    {
     "data": {
      "image/png": "[encoded data removed]",
      "text/plain": [
       "<Figure size 432x288 with 1 Axes>"
      ]
     },
     "metadata": {},
     "output_type": "display_data"
    },
    {
     "name": "stdout",
     "output_type": "stream",
     "text": [
      "This image is a:  2\n"
     ]
    }
   ],
   "source": [
    "img_2_see = 200\n",
    "fig_1 = plt.figure()\n",
    "print_some_image( training_set[img_2_see, :] )\n",
    "print('This image is a: ', training_labels[img_2_see])"
   ]
  },
  {
   "cell_type": "code",
   "execution_count": 56,
   "metadata": {},
   "outputs": [
    {
     "name": "stdout",
     "output_type": "stream",
     "text": [
      "Computing time:  9.847733497619629\n",
      "Mean Squared Error:  0.976 \n",
      " Right predictions:  0.954\n"
     ]
    }
   ],
   "source": [
    "predicted_labels = evaluate_BallTree(training_set, testing_set, training_labels, testing_labels)"
   ]
  },
  {
   "cell_type": "code",
   "execution_count": 57,
   "metadata": {
    "scrolled": true
   },
   "outputs": [
    {
     "name": "stdout",
     "output_type": "stream",
     "text": [
      "Computing time:  11.663929462432861\n",
      "Mean Squared Error:  0.976 \n",
      " Right predictions:  0.954\n"
     ]
    }
   ],
   "source": [
    "predicted_labels = evaluate_KDTree(training_set, testing_set, training_labels, testing_labels)"
   ]
  },
  {
   "cell_type": "code",
   "execution_count": 58,
   "metadata": {},
   "outputs": [
    {
     "name": "stdout",
     "output_type": "stream",
     "text": [
      "(array([ 39,  47,  88, 124, 132, 138, 152, 193, 233, 252, 256, 260, 301,\n",
      "       338, 349, 357, 358, 362, 377, 398, 409, 410, 449, 453, 460, 536,\n",
      "       557, 575, 618, 637, 639, 671, 707, 717, 747, 762, 779, 802, 828,\n",
      "       841, 912, 918, 926, 937, 938, 954]),)\n"
     ]
    }
   ],
   "source": [
    "which_failed = np.where(testing_labels != predicted_labels)\n",
    "print(which_failed)"
   ]
  },
  {
   "cell_type": "code",
   "execution_count": 60,
   "metadata": {
    "scrolled": false
   },
   "outputs": [
    {
     "data": {
      "image/png": "[encoded data removed]",
      "text/plain": [
       "<Figure size 432x288 with 1 Axes>"
      ]
     },
     "metadata": {},
     "output_type": "display_data"
    },
    {
     "name": "stdout",
     "output_type": "stream",
     "text": [
      "This image is a:  9  but nearest-neighbors predicted:  4\n"
     ]
    }
   ],
   "source": [
    "img_2_see = 193\n",
    "fig_1 = plt.figure()\n",
    "print_some_image( testing_set[img_2_see, :] )\n",
    "print('This image is a: ', testing_labels[img_2_see], ' but nearest-neighbors predicted: ', predicted_labels[img_2_see])"
   ]
  }
 ],
 "metadata": {
  "kernelspec": {
   "display_name": "Python 3",
   "language": "python",
   "name": "python3"
  },
  "language_info": {
   "codemirror_mode": {
    "name": "ipython",
    "version": 3
   },
   "file_extension": ".py",
   "mimetype": "text/x-python",
   "name": "python",
   "nbconvert_exporter": "python",
   "pygments_lexer": "ipython3",
   "version": "3.6.7"
  }
 },
 "nbformat": 4,
 "nbformat_minor": 2
}
