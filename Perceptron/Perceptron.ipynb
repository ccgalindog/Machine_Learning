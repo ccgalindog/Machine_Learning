{
 "cells": [
  {
   "cell_type": "markdown",
   "metadata": {},
   "source": [
    "#  <span style=\"color:blue\"> <center> Perceptron algorithm </center></span>\n",
    "\n",
    "Tune iteratively a line $y=wx+b$ that works as a decision boundary in a binary classification problem by slightly adjusting $w$ and $b$ as long as at least one point in the training set is not correctly classified. Data needs to be linearly separable.\n",
    "\n",
    "*Examples 1 and 2 are taken from edx: 'DSE220x : Machine Learning Fundamentals'.*"
   ]
  },
  {
   "cell_type": "code",
   "execution_count": 1,
   "metadata": {},
   "outputs": [],
   "source": [
    "import numpy as np\n",
    "from matplotlib import pyplot as plt\n",
    "from sklearn.linear_model import Perceptron\n",
    "import pandas as pd"
   ]
  },
  {
   "cell_type": "code",
   "execution_count": 2,
   "metadata": {},
   "outputs": [],
   "source": [
    "def plot_classification_map(clf, data, color_at, marker_at, label_names):\n",
    "\n",
    "    differ_labels = len(np.unique( data[:,2] ))\n",
    "    x_range = np.linspace( np.min(data[:,0]), np.max(data[:, 0]), 1000 )\n",
    "\n",
    "    plt.figure()\n",
    "    x1_range = np.arange( np.min(data[:,0])-1, np.max(data[:, 0])+1 , 0.05 )\n",
    "    x2_range = np.arange( np.min(data[:,1])-1, np.max(data[:, 1])+1 , 0.05 )\n",
    "    X1_space, X2_space  = np.meshgrid( x1_range, x2_range )\n",
    "\n",
    "    grid = np.c_[X1_space.ravel(), X2_space.ravel()]\n",
    "\n",
    "\n",
    "    Z = np.array([clf.predict( np.array([[point[0]],[point[1]]]).reshape(-1,1).T ) for point in grid])\n",
    "    Z = Z.reshape(X1_space.shape)\n",
    "    plt.pcolormesh(X1_space, X2_space, Z, cmap=plt.cm.Pastel1, vmin=0, vmax=1+np.max(data[:,2]))\n",
    "\n",
    "    for each_class in range(differ_labels):\n",
    "        class_1_points = data[ data[:,2]== each_class , :] \n",
    "        plt.scatter( class_1_points[:, 0], class_1_points[:, 1], c=color_at[each_class], marker=marker_at[each_class], label='{}'.format(label_names[each_class]))\n",
    "\n",
    "    plt.xlabel(r'$x_1$')\n",
    "    plt.ylabel(r'$x_2$')\n",
    "    plt.legend(loc='best')\n",
    "    plt.show()"
   ]
  },
  {
   "cell_type": "markdown",
   "metadata": {},
   "source": [
    "## <span style=\"color:yellow\"> ----------------------------------------------------------------------------------</span>\n",
    "## <span style=\"color:red\">Ex.1 - Simple perceptron for binary classification</span>\n"
   ]
  },
  {
   "cell_type": "code",
   "execution_count": 3,
   "metadata": {},
   "outputs": [],
   "source": [
    "data = np.loadtxt('data_1.txt')"
   ]
  },
  {
   "cell_type": "code",
   "execution_count": 4,
   "metadata": {
    "scrolled": true
   },
   "outputs": [
    {
     "name": "stdout",
     "output_type": "stream",
     "text": [
      "Coefficients:  [[-8. -4.]]\n",
      "Intercept:  [45.]\n",
      "Accuracy:  1.0\n"
     ]
    }
   ],
   "source": [
    "train_set = data[:,0:2]\n",
    "train_labels = data[:,2]\n",
    "\n",
    "clf = Perceptron(tol=1e-5, max_iter = 1000)\n",
    "clf.fit(train_set, train_labels)\n",
    "clf.score(train_set, train_labels)\n",
    "\n",
    "w = clf.coef_\n",
    "b = clf.intercept_\n",
    "\n",
    "print('Coefficients: ', w)\n",
    "print('Intercept: ', b)\n",
    "print('Accuracy: ', clf.score(train_set, train_labels))"
   ]
  },
  {
   "cell_type": "code",
   "execution_count": 5,
   "metadata": {
    "scrolled": true
   },
   "outputs": [
    {
     "data": {
      "image/png": "[encoded data removed]",
      "text/plain": [
       "<Figure size 432x288 with 1 Axes>"
      ]
     },
     "metadata": {},
     "output_type": "display_data"
    }
   ],
   "source": [
    "x_range = np.linspace( np.min(data[:,0]), np.max(data[:, 0]) )\n",
    "\n",
    "a1 = -w[0][0]/w[0][1]\n",
    "a2 = -b/w[0][1]\n",
    "\n",
    "y_percepted = a1*x_range + a2\n",
    "\n",
    "class_1_points = data[ data[:,2]==1 , :] \n",
    "class_2_points = data[ data[:,2]==-1 , :] \n",
    "plt.figure()\n",
    "plt.scatter( class_1_points[:, 0], class_1_points[:, 1], c='crimson', marker='d')\n",
    "plt.scatter( class_2_points[:, 0], class_2_points[:, 1], c='navy', marker='^')\n",
    "plt.plot( x_range, y_percepted, 'k', linewidth=2 )\n",
    "plt.ylim([np.min(data[:,1]), np.max(data[:, 1])])\n",
    "plt.show()"
   ]
  },
  {
   "cell_type": "markdown",
   "metadata": {},
   "source": [
    "## <span style=\"color:yellow\"> ----------------------------------------------------------------------------------</span>\n",
    "## <span style=\"color:red\">Ex.2 - Multiclass Perceptron </span>\n",
    "\n",
    "For each possible $k$ lable, build a line $w_k x + b_k$. "
   ]
  },
  {
   "cell_type": "code",
   "execution_count": 6,
   "metadata": {},
   "outputs": [
    {
     "name": "stdout",
     "output_type": "stream",
     "text": [
      "Coefficients:  [[  1. -20.]\n",
      " [-35.  21.]\n",
      " [  4.   2.]]\n",
      "Intercept:  [ 41.   7. -35.]\n",
      "Accuracy:  0.9333333333333333\n"
     ]
    }
   ],
   "source": [
    "data = np.loadtxt('data_4.txt')\n",
    "train_set = data[:,0:2]\n",
    "train_labels = data[:,2]\n",
    "\n",
    "clf = Perceptron(tol=1e-6, max_iter = 10000)\n",
    "clf.fit(train_set, train_labels)\n",
    "clf.score(train_set, train_labels)\n",
    "\n",
    "w = clf.coef_\n",
    "b = clf.intercept_\n",
    "\n",
    "print('Coefficients: ', w)\n",
    "print('Intercept: ', b)\n",
    "print('Accuracy: ', clf.score(train_set, train_labels))"
   ]
  },
  {
   "cell_type": "code",
   "execution_count": 7,
   "metadata": {},
   "outputs": [
    {
     "data": {
      "image/png": "[encoded data removed]",
      "text/plain": [
       "<Figure size 432x288 with 1 Axes>"
      ]
     },
     "metadata": {},
     "output_type": "display_data"
    }
   ],
   "source": [
    "color_at = ['crimson', 'navy', 'lime', 'black']\n",
    "marker_at = ['^', 'o', 's', 'd']\n",
    "label_names = ['Class 0', 'Class 1', 'Class 2', 'Class 3']\n",
    "plot_classification_map(clf, data, color_at, marker_at, label_names)"
   ]
  }
 ],
 "metadata": {
  "kernelspec": {
   "display_name": "Python 3",
   "language": "python",
   "name": "python3"
  },
  "language_info": {
   "codemirror_mode": {
    "name": "ipython",
    "version": 3
   },
   "file_extension": ".py",
   "mimetype": "text/x-python",
   "name": "python",
   "nbconvert_exporter": "python",
   "pygments_lexer": "ipython3",
   "version": "3.6.7"
  }
 },
 "nbformat": 4,
 "nbformat_minor": 2
}
